{
 "cells": [
  {
   "cell_type": "code",
   "execution_count": 2,
   "id": "c6a3be7b",
   "metadata": {},
   "outputs": [],
   "source": [
    "import pandas as pd\n",
    "import matplotlib.pyplot as plt\n",
    "import seaborn as sns\n",
    "from urllib.request import urlretrieve"
   ]
  },
  {
   "cell_type": "code",
   "execution_count": 3,
   "id": "08ac868e",
   "metadata": {},
   "outputs": [
    {
     "data": {
      "text/plain": [
       "('italy-covid-daywise.csv', <http.client.HTTPMessage at 0x1a5642065a0>)"
      ]
     },
     "execution_count": 3,
     "metadata": {},
     "output_type": "execute_result"
    }
   ],
   "source": [
    "italy_covid_url = 'https://gist.githubusercontent.com/aakashns/f6a004fa20c84fec53262f9a8bfee775/raw/f309558b1cf5103424cef58e2ecb8704dcd4d74c/italy-covid-daywise.csv'\n",
    "\n",
    "urlretrieve(italy_covid_url, 'italy-covid-daywise.csv')"
   ]
  },
  {
   "cell_type": "code",
   "execution_count": 4,
   "id": "2664444c",
   "metadata": {},
   "outputs": [],
   "source": [
    "covid_df = pd.read_csv('italy-covid-daywise.csv')"
   ]
  },
  {
   "cell_type": "code",
   "execution_count": 5,
   "id": "422af170",
   "metadata": {},
   "outputs": [
    {
     "data": {
      "application/vnd.microsoft.datawrangler.viewer.v0+json": {
       "columns": [
        {
         "name": "index",
         "rawType": "int64",
         "type": "integer"
        },
        {
         "name": "date",
         "rawType": "object",
         "type": "string"
        },
        {
         "name": "new_cases",
         "rawType": "float64",
         "type": "float"
        },
        {
         "name": "new_deaths",
         "rawType": "float64",
         "type": "float"
        },
        {
         "name": "new_tests",
         "rawType": "float64",
         "type": "float"
        }
       ],
       "conversionMethod": "pd.DataFrame",
       "ref": "efc19233-3ce6-416c-9288-2bebe37f8594",
       "rows": [
        [
         "0",
         "2019-12-31",
         "0.0",
         "0.0",
         null
        ],
        [
         "1",
         "2020-01-01",
         "0.0",
         "0.0",
         null
        ],
        [
         "2",
         "2020-01-02",
         "0.0",
         "0.0",
         null
        ],
        [
         "3",
         "2020-01-03",
         "0.0",
         "0.0",
         null
        ],
        [
         "4",
         "2020-01-04",
         "0.0",
         "0.0",
         null
        ],
        [
         "5",
         "2020-01-05",
         "0.0",
         "0.0",
         null
        ],
        [
         "6",
         "2020-01-06",
         "0.0",
         "0.0",
         null
        ],
        [
         "7",
         "2020-01-07",
         "0.0",
         "0.0",
         null
        ],
        [
         "8",
         "2020-01-08",
         "0.0",
         "0.0",
         null
        ],
        [
         "9",
         "2020-01-09",
         "0.0",
         "0.0",
         null
        ],
        [
         "10",
         "2020-01-10",
         "0.0",
         "0.0",
         null
        ],
        [
         "11",
         "2020-01-11",
         "0.0",
         "0.0",
         null
        ],
        [
         "12",
         "2020-01-12",
         "0.0",
         "0.0",
         null
        ],
        [
         "13",
         "2020-01-13",
         "0.0",
         "0.0",
         null
        ],
        [
         "14",
         "2020-01-14",
         "0.0",
         "0.0",
         null
        ],
        [
         "15",
         "2020-01-15",
         "0.0",
         "0.0",
         null
        ],
        [
         "16",
         "2020-01-16",
         "0.0",
         "0.0",
         null
        ],
        [
         "17",
         "2020-01-17",
         "0.0",
         "0.0",
         null
        ],
        [
         "18",
         "2020-01-18",
         "0.0",
         "0.0",
         null
        ],
        [
         "19",
         "2020-01-19",
         "0.0",
         "0.0",
         null
        ],
        [
         "20",
         "2020-01-20",
         "0.0",
         "0.0",
         null
        ],
        [
         "21",
         "2020-01-21",
         "0.0",
         "0.0",
         null
        ],
        [
         "22",
         "2020-01-22",
         "0.0",
         "0.0",
         null
        ],
        [
         "23",
         "2020-01-23",
         "0.0",
         "0.0",
         null
        ],
        [
         "24",
         "2020-01-24",
         "0.0",
         "0.0",
         null
        ],
        [
         "25",
         "2020-01-25",
         "0.0",
         "0.0",
         null
        ],
        [
         "26",
         "2020-01-26",
         "0.0",
         "0.0",
         null
        ],
        [
         "27",
         "2020-01-27",
         "0.0",
         "0.0",
         null
        ],
        [
         "28",
         "2020-01-28",
         "0.0",
         "0.0",
         null
        ],
        [
         "29",
         "2020-01-29",
         "0.0",
         "0.0",
         null
        ],
        [
         "30",
         "2020-01-30",
         "0.0",
         "0.0",
         null
        ],
        [
         "31",
         "2020-01-31",
         "3.0",
         "0.0",
         null
        ],
        [
         "32",
         "2020-02-01",
         "0.0",
         "0.0",
         null
        ],
        [
         "33",
         "2020-02-02",
         "0.0",
         "0.0",
         null
        ],
        [
         "34",
         "2020-02-03",
         "0.0",
         "0.0",
         null
        ],
        [
         "35",
         "2020-02-04",
         "0.0",
         "0.0",
         null
        ],
        [
         "36",
         "2020-02-05",
         "0.0",
         "0.0",
         null
        ],
        [
         "37",
         "2020-02-06",
         "0.0",
         "0.0",
         null
        ],
        [
         "38",
         "2020-02-07",
         "0.0",
         "0.0",
         null
        ],
        [
         "39",
         "2020-02-08",
         "0.0",
         "0.0",
         null
        ],
        [
         "40",
         "2020-02-09",
         "0.0",
         "0.0",
         null
        ],
        [
         "41",
         "2020-02-10",
         "0.0",
         "0.0",
         null
        ],
        [
         "42",
         "2020-02-11",
         "0.0",
         "0.0",
         null
        ],
        [
         "43",
         "2020-02-12",
         "0.0",
         "0.0",
         null
        ],
        [
         "44",
         "2020-02-13",
         "0.0",
         "0.0",
         null
        ],
        [
         "45",
         "2020-02-14",
         "0.0",
         "0.0",
         null
        ],
        [
         "46",
         "2020-02-15",
         "0.0",
         "0.0",
         null
        ],
        [
         "47",
         "2020-02-16",
         "0.0",
         "0.0",
         null
        ],
        [
         "48",
         "2020-02-17",
         "0.0",
         "0.0",
         null
        ],
        [
         "49",
         "2020-02-18",
         "0.0",
         "0.0",
         null
        ]
       ],
       "shape": {
        "columns": 4,
        "rows": 248
       }
      },
      "text/html": [
       "<div>\n",
       "<style scoped>\n",
       "    .dataframe tbody tr th:only-of-type {\n",
       "        vertical-align: middle;\n",
       "    }\n",
       "\n",
       "    .dataframe tbody tr th {\n",
       "        vertical-align: top;\n",
       "    }\n",
       "\n",
       "    .dataframe thead th {\n",
       "        text-align: right;\n",
       "    }\n",
       "</style>\n",
       "<table border=\"1\" class=\"dataframe\">\n",
       "  <thead>\n",
       "    <tr style=\"text-align: right;\">\n",
       "      <th></th>\n",
       "      <th>date</th>\n",
       "      <th>new_cases</th>\n",
       "      <th>new_deaths</th>\n",
       "      <th>new_tests</th>\n",
       "    </tr>\n",
       "  </thead>\n",
       "  <tbody>\n",
       "    <tr>\n",
       "      <th>0</th>\n",
       "      <td>2019-12-31</td>\n",
       "      <td>0.0</td>\n",
       "      <td>0.0</td>\n",
       "      <td>NaN</td>\n",
       "    </tr>\n",
       "    <tr>\n",
       "      <th>1</th>\n",
       "      <td>2020-01-01</td>\n",
       "      <td>0.0</td>\n",
       "      <td>0.0</td>\n",
       "      <td>NaN</td>\n",
       "    </tr>\n",
       "    <tr>\n",
       "      <th>2</th>\n",
       "      <td>2020-01-02</td>\n",
       "      <td>0.0</td>\n",
       "      <td>0.0</td>\n",
       "      <td>NaN</td>\n",
       "    </tr>\n",
       "    <tr>\n",
       "      <th>3</th>\n",
       "      <td>2020-01-03</td>\n",
       "      <td>0.0</td>\n",
       "      <td>0.0</td>\n",
       "      <td>NaN</td>\n",
       "    </tr>\n",
       "    <tr>\n",
       "      <th>4</th>\n",
       "      <td>2020-01-04</td>\n",
       "      <td>0.0</td>\n",
       "      <td>0.0</td>\n",
       "      <td>NaN</td>\n",
       "    </tr>\n",
       "    <tr>\n",
       "      <th>...</th>\n",
       "      <td>...</td>\n",
       "      <td>...</td>\n",
       "      <td>...</td>\n",
       "      <td>...</td>\n",
       "    </tr>\n",
       "    <tr>\n",
       "      <th>243</th>\n",
       "      <td>2020-08-30</td>\n",
       "      <td>1444.0</td>\n",
       "      <td>1.0</td>\n",
       "      <td>53541.0</td>\n",
       "    </tr>\n",
       "    <tr>\n",
       "      <th>244</th>\n",
       "      <td>2020-08-31</td>\n",
       "      <td>1365.0</td>\n",
       "      <td>4.0</td>\n",
       "      <td>42583.0</td>\n",
       "    </tr>\n",
       "    <tr>\n",
       "      <th>245</th>\n",
       "      <td>2020-09-01</td>\n",
       "      <td>996.0</td>\n",
       "      <td>6.0</td>\n",
       "      <td>54395.0</td>\n",
       "    </tr>\n",
       "    <tr>\n",
       "      <th>246</th>\n",
       "      <td>2020-09-02</td>\n",
       "      <td>975.0</td>\n",
       "      <td>8.0</td>\n",
       "      <td>NaN</td>\n",
       "    </tr>\n",
       "    <tr>\n",
       "      <th>247</th>\n",
       "      <td>2020-09-03</td>\n",
       "      <td>1326.0</td>\n",
       "      <td>6.0</td>\n",
       "      <td>NaN</td>\n",
       "    </tr>\n",
       "  </tbody>\n",
       "</table>\n",
       "<p>248 rows × 4 columns</p>\n",
       "</div>"
      ],
      "text/plain": [
       "           date  new_cases  new_deaths  new_tests\n",
       "0    2019-12-31        0.0         0.0        NaN\n",
       "1    2020-01-01        0.0         0.0        NaN\n",
       "2    2020-01-02        0.0         0.0        NaN\n",
       "3    2020-01-03        0.0         0.0        NaN\n",
       "4    2020-01-04        0.0         0.0        NaN\n",
       "..          ...        ...         ...        ...\n",
       "243  2020-08-30     1444.0         1.0    53541.0\n",
       "244  2020-08-31     1365.0         4.0    42583.0\n",
       "245  2020-09-01      996.0         6.0    54395.0\n",
       "246  2020-09-02      975.0         8.0        NaN\n",
       "247  2020-09-03     1326.0         6.0        NaN\n",
       "\n",
       "[248 rows x 4 columns]"
      ]
     },
     "execution_count": 5,
     "metadata": {},
     "output_type": "execute_result"
    }
   ],
   "source": [
    "covid_df"
   ]
  },
  {
   "cell_type": "code",
   "execution_count": 6,
   "id": "94f57b15",
   "metadata": {},
   "outputs": [
    {
     "name": "stdout",
     "output_type": "stream",
     "text": [
      "<class 'pandas.core.frame.DataFrame'>\n",
      "RangeIndex: 248 entries, 0 to 247\n",
      "Data columns (total 4 columns):\n",
      " #   Column      Non-Null Count  Dtype  \n",
      "---  ------      --------------  -----  \n",
      " 0   date        248 non-null    object \n",
      " 1   new_cases   248 non-null    float64\n",
      " 2   new_deaths  248 non-null    float64\n",
      " 3   new_tests   135 non-null    float64\n",
      "dtypes: float64(3), object(1)\n",
      "memory usage: 7.9+ KB\n"
     ]
    }
   ],
   "source": [
    "covid_df.info()"
   ]
  },
  {
   "cell_type": "code",
   "execution_count": 7,
   "id": "c60bb2b8",
   "metadata": {},
   "outputs": [
    {
     "data": {
      "application/vnd.microsoft.datawrangler.viewer.v0+json": {
       "columns": [
        {
         "name": "index",
         "rawType": "object",
         "type": "string"
        },
        {
         "name": "new_cases",
         "rawType": "float64",
         "type": "float"
        },
        {
         "name": "new_deaths",
         "rawType": "float64",
         "type": "float"
        },
        {
         "name": "new_tests",
         "rawType": "float64",
         "type": "float"
        }
       ],
       "conversionMethod": "pd.DataFrame",
       "ref": "b38612bc-df5d-4b38-8e5b-d38a6d9ea6b1",
       "rows": [
        [
         "count",
         "248.0",
         "248.0",
         "135.0"
        ],
        [
         "mean",
         "1094.8185483870968",
         "143.13306451612902",
         "31699.674074074075"
        ],
        [
         "std",
         "1554.5080021940491",
         "227.10553833402594",
         "11622.209756510283"
        ],
        [
         "min",
         "-148.0",
         "-31.0",
         "7841.0"
        ],
        [
         "25%",
         "123.0",
         "3.0",
         "25259.0"
        ],
        [
         "50%",
         "342.0",
         "17.0",
         "29545.0"
        ],
        [
         "75%",
         "1371.75",
         "175.25",
         "37711.0"
        ],
        [
         "max",
         "6557.0",
         "971.0",
         "95273.0"
        ]
       ],
       "shape": {
        "columns": 3,
        "rows": 8
       }
      },
      "text/html": [
       "<div>\n",
       "<style scoped>\n",
       "    .dataframe tbody tr th:only-of-type {\n",
       "        vertical-align: middle;\n",
       "    }\n",
       "\n",
       "    .dataframe tbody tr th {\n",
       "        vertical-align: top;\n",
       "    }\n",
       "\n",
       "    .dataframe thead th {\n",
       "        text-align: right;\n",
       "    }\n",
       "</style>\n",
       "<table border=\"1\" class=\"dataframe\">\n",
       "  <thead>\n",
       "    <tr style=\"text-align: right;\">\n",
       "      <th></th>\n",
       "      <th>new_cases</th>\n",
       "      <th>new_deaths</th>\n",
       "      <th>new_tests</th>\n",
       "    </tr>\n",
       "  </thead>\n",
       "  <tbody>\n",
       "    <tr>\n",
       "      <th>count</th>\n",
       "      <td>248.000000</td>\n",
       "      <td>248.000000</td>\n",
       "      <td>135.000000</td>\n",
       "    </tr>\n",
       "    <tr>\n",
       "      <th>mean</th>\n",
       "      <td>1094.818548</td>\n",
       "      <td>143.133065</td>\n",
       "      <td>31699.674074</td>\n",
       "    </tr>\n",
       "    <tr>\n",
       "      <th>std</th>\n",
       "      <td>1554.508002</td>\n",
       "      <td>227.105538</td>\n",
       "      <td>11622.209757</td>\n",
       "    </tr>\n",
       "    <tr>\n",
       "      <th>min</th>\n",
       "      <td>-148.000000</td>\n",
       "      <td>-31.000000</td>\n",
       "      <td>7841.000000</td>\n",
       "    </tr>\n",
       "    <tr>\n",
       "      <th>25%</th>\n",
       "      <td>123.000000</td>\n",
       "      <td>3.000000</td>\n",
       "      <td>25259.000000</td>\n",
       "    </tr>\n",
       "    <tr>\n",
       "      <th>50%</th>\n",
       "      <td>342.000000</td>\n",
       "      <td>17.000000</td>\n",
       "      <td>29545.000000</td>\n",
       "    </tr>\n",
       "    <tr>\n",
       "      <th>75%</th>\n",
       "      <td>1371.750000</td>\n",
       "      <td>175.250000</td>\n",
       "      <td>37711.000000</td>\n",
       "    </tr>\n",
       "    <tr>\n",
       "      <th>max</th>\n",
       "      <td>6557.000000</td>\n",
       "      <td>971.000000</td>\n",
       "      <td>95273.000000</td>\n",
       "    </tr>\n",
       "  </tbody>\n",
       "</table>\n",
       "</div>"
      ],
      "text/plain": [
       "         new_cases  new_deaths     new_tests\n",
       "count   248.000000  248.000000    135.000000\n",
       "mean   1094.818548  143.133065  31699.674074\n",
       "std    1554.508002  227.105538  11622.209757\n",
       "min    -148.000000  -31.000000   7841.000000\n",
       "25%     123.000000    3.000000  25259.000000\n",
       "50%     342.000000   17.000000  29545.000000\n",
       "75%    1371.750000  175.250000  37711.000000\n",
       "max    6557.000000  971.000000  95273.000000"
      ]
     },
     "execution_count": 7,
     "metadata": {},
     "output_type": "execute_result"
    }
   ],
   "source": [
    "covid_df.describe()"
   ]
  },
  {
   "cell_type": "code",
   "execution_count": 8,
   "id": "19d8f388",
   "metadata": {},
   "outputs": [
    {
     "data": {
      "text/plain": [
       "Index(['date', 'new_cases', 'new_deaths', 'new_tests'], dtype='object')"
      ]
     },
     "execution_count": 8,
     "metadata": {},
     "output_type": "execute_result"
    }
   ],
   "source": [
    "covid_df.columns"
   ]
  },
  {
   "cell_type": "code",
   "execution_count": 9,
   "id": "238e3b01",
   "metadata": {},
   "outputs": [
    {
     "data": {
      "text/plain": [
       "(248, 4)"
      ]
     },
     "execution_count": 9,
     "metadata": {},
     "output_type": "execute_result"
    }
   ],
   "source": [
    "covid_df.shape"
   ]
  },
  {
   "cell_type": "code",
   "execution_count": 11,
   "id": "00af4e44",
   "metadata": {},
   "outputs": [
    {
     "data": {
      "application/vnd.microsoft.datawrangler.viewer.v0+json": {
       "columns": [
        {
         "name": "index",
         "rawType": "int64",
         "type": "integer"
        },
        {
         "name": "date",
         "rawType": "object",
         "type": "string"
        },
        {
         "name": "new_cases",
         "rawType": "float64",
         "type": "float"
        },
        {
         "name": "new_deaths",
         "rawType": "float64",
         "type": "float"
        },
        {
         "name": "new_tests",
         "rawType": "float64",
         "type": "float"
        }
       ],
       "conversionMethod": "pd.DataFrame",
       "ref": "17cb9475-3d47-47eb-8bfe-1e05de7136bf",
       "rows": [
        [
         "0",
         "2019-12-31",
         "0.0",
         "0.0",
         null
        ],
        [
         "1",
         "2020-01-01",
         "0.0",
         "0.0",
         null
        ],
        [
         "2",
         "2020-01-02",
         "0.0",
         "0.0",
         null
        ],
        [
         "3",
         "2020-01-03",
         "0.0",
         "0.0",
         null
        ],
        [
         "4",
         "2020-01-04",
         "0.0",
         "0.0",
         null
        ],
        [
         "5",
         "2020-01-05",
         "0.0",
         "0.0",
         null
        ],
        [
         "6",
         "2020-01-06",
         "0.0",
         "0.0",
         null
        ],
        [
         "7",
         "2020-01-07",
         "0.0",
         "0.0",
         null
        ],
        [
         "8",
         "2020-01-08",
         "0.0",
         "0.0",
         null
        ],
        [
         "9",
         "2020-01-09",
         "0.0",
         "0.0",
         null
        ]
       ],
       "shape": {
        "columns": 4,
        "rows": 10
       }
      },
      "text/html": [
       "<div>\n",
       "<style scoped>\n",
       "    .dataframe tbody tr th:only-of-type {\n",
       "        vertical-align: middle;\n",
       "    }\n",
       "\n",
       "    .dataframe tbody tr th {\n",
       "        vertical-align: top;\n",
       "    }\n",
       "\n",
       "    .dataframe thead th {\n",
       "        text-align: right;\n",
       "    }\n",
       "</style>\n",
       "<table border=\"1\" class=\"dataframe\">\n",
       "  <thead>\n",
       "    <tr style=\"text-align: right;\">\n",
       "      <th></th>\n",
       "      <th>date</th>\n",
       "      <th>new_cases</th>\n",
       "      <th>new_deaths</th>\n",
       "      <th>new_tests</th>\n",
       "    </tr>\n",
       "  </thead>\n",
       "  <tbody>\n",
       "    <tr>\n",
       "      <th>0</th>\n",
       "      <td>2019-12-31</td>\n",
       "      <td>0.0</td>\n",
       "      <td>0.0</td>\n",
       "      <td>NaN</td>\n",
       "    </tr>\n",
       "    <tr>\n",
       "      <th>1</th>\n",
       "      <td>2020-01-01</td>\n",
       "      <td>0.0</td>\n",
       "      <td>0.0</td>\n",
       "      <td>NaN</td>\n",
       "    </tr>\n",
       "    <tr>\n",
       "      <th>2</th>\n",
       "      <td>2020-01-02</td>\n",
       "      <td>0.0</td>\n",
       "      <td>0.0</td>\n",
       "      <td>NaN</td>\n",
       "    </tr>\n",
       "    <tr>\n",
       "      <th>3</th>\n",
       "      <td>2020-01-03</td>\n",
       "      <td>0.0</td>\n",
       "      <td>0.0</td>\n",
       "      <td>NaN</td>\n",
       "    </tr>\n",
       "    <tr>\n",
       "      <th>4</th>\n",
       "      <td>2020-01-04</td>\n",
       "      <td>0.0</td>\n",
       "      <td>0.0</td>\n",
       "      <td>NaN</td>\n",
       "    </tr>\n",
       "    <tr>\n",
       "      <th>5</th>\n",
       "      <td>2020-01-05</td>\n",
       "      <td>0.0</td>\n",
       "      <td>0.0</td>\n",
       "      <td>NaN</td>\n",
       "    </tr>\n",
       "    <tr>\n",
       "      <th>6</th>\n",
       "      <td>2020-01-06</td>\n",
       "      <td>0.0</td>\n",
       "      <td>0.0</td>\n",
       "      <td>NaN</td>\n",
       "    </tr>\n",
       "    <tr>\n",
       "      <th>7</th>\n",
       "      <td>2020-01-07</td>\n",
       "      <td>0.0</td>\n",
       "      <td>0.0</td>\n",
       "      <td>NaN</td>\n",
       "    </tr>\n",
       "    <tr>\n",
       "      <th>8</th>\n",
       "      <td>2020-01-08</td>\n",
       "      <td>0.0</td>\n",
       "      <td>0.0</td>\n",
       "      <td>NaN</td>\n",
       "    </tr>\n",
       "    <tr>\n",
       "      <th>9</th>\n",
       "      <td>2020-01-09</td>\n",
       "      <td>0.0</td>\n",
       "      <td>0.0</td>\n",
       "      <td>NaN</td>\n",
       "    </tr>\n",
       "  </tbody>\n",
       "</table>\n",
       "</div>"
      ],
      "text/plain": [
       "         date  new_cases  new_deaths  new_tests\n",
       "0  2019-12-31        0.0         0.0        NaN\n",
       "1  2020-01-01        0.0         0.0        NaN\n",
       "2  2020-01-02        0.0         0.0        NaN\n",
       "3  2020-01-03        0.0         0.0        NaN\n",
       "4  2020-01-04        0.0         0.0        NaN\n",
       "5  2020-01-05        0.0         0.0        NaN\n",
       "6  2020-01-06        0.0         0.0        NaN\n",
       "7  2020-01-07        0.0         0.0        NaN\n",
       "8  2020-01-08        0.0         0.0        NaN\n",
       "9  2020-01-09        0.0         0.0        NaN"
      ]
     },
     "execution_count": 11,
     "metadata": {},
     "output_type": "execute_result"
    }
   ],
   "source": [
    "covid_df.head(10)"
   ]
  },
  {
   "cell_type": "code",
   "execution_count": 12,
   "id": "2ccc1fcb",
   "metadata": {},
   "outputs": [
    {
     "data": {
      "application/vnd.microsoft.datawrangler.viewer.v0+json": {
       "columns": [
        {
         "name": "index",
         "rawType": "int64",
         "type": "integer"
        },
        {
         "name": "date",
         "rawType": "object",
         "type": "string"
        },
        {
         "name": "new_cases",
         "rawType": "float64",
         "type": "float"
        },
        {
         "name": "new_deaths",
         "rawType": "float64",
         "type": "float"
        },
        {
         "name": "new_tests",
         "rawType": "float64",
         "type": "float"
        }
       ],
       "conversionMethod": "pd.DataFrame",
       "ref": "831c3a4f-f74d-4d9b-9eba-e5bc55c20834",
       "rows": [
        [
         "238",
         "2020-08-25",
         "953.0",
         "4.0",
         "45798.0"
        ],
        [
         "239",
         "2020-08-26",
         "876.0",
         "4.0",
         "58054.0"
        ],
        [
         "240",
         "2020-08-27",
         "1366.0",
         "13.0",
         "57640.0"
        ],
        [
         "241",
         "2020-08-28",
         "1409.0",
         "5.0",
         "65135.0"
        ],
        [
         "242",
         "2020-08-29",
         "1460.0",
         "9.0",
         "64294.0"
        ],
        [
         "243",
         "2020-08-30",
         "1444.0",
         "1.0",
         "53541.0"
        ],
        [
         "244",
         "2020-08-31",
         "1365.0",
         "4.0",
         "42583.0"
        ],
        [
         "245",
         "2020-09-01",
         "996.0",
         "6.0",
         "54395.0"
        ],
        [
         "246",
         "2020-09-02",
         "975.0",
         "8.0",
         null
        ],
        [
         "247",
         "2020-09-03",
         "1326.0",
         "6.0",
         null
        ]
       ],
       "shape": {
        "columns": 4,
        "rows": 10
       }
      },
      "text/html": [
       "<div>\n",
       "<style scoped>\n",
       "    .dataframe tbody tr th:only-of-type {\n",
       "        vertical-align: middle;\n",
       "    }\n",
       "\n",
       "    .dataframe tbody tr th {\n",
       "        vertical-align: top;\n",
       "    }\n",
       "\n",
       "    .dataframe thead th {\n",
       "        text-align: right;\n",
       "    }\n",
       "</style>\n",
       "<table border=\"1\" class=\"dataframe\">\n",
       "  <thead>\n",
       "    <tr style=\"text-align: right;\">\n",
       "      <th></th>\n",
       "      <th>date</th>\n",
       "      <th>new_cases</th>\n",
       "      <th>new_deaths</th>\n",
       "      <th>new_tests</th>\n",
       "    </tr>\n",
       "  </thead>\n",
       "  <tbody>\n",
       "    <tr>\n",
       "      <th>238</th>\n",
       "      <td>2020-08-25</td>\n",
       "      <td>953.0</td>\n",
       "      <td>4.0</td>\n",
       "      <td>45798.0</td>\n",
       "    </tr>\n",
       "    <tr>\n",
       "      <th>239</th>\n",
       "      <td>2020-08-26</td>\n",
       "      <td>876.0</td>\n",
       "      <td>4.0</td>\n",
       "      <td>58054.0</td>\n",
       "    </tr>\n",
       "    <tr>\n",
       "      <th>240</th>\n",
       "      <td>2020-08-27</td>\n",
       "      <td>1366.0</td>\n",
       "      <td>13.0</td>\n",
       "      <td>57640.0</td>\n",
       "    </tr>\n",
       "    <tr>\n",
       "      <th>241</th>\n",
       "      <td>2020-08-28</td>\n",
       "      <td>1409.0</td>\n",
       "      <td>5.0</td>\n",
       "      <td>65135.0</td>\n",
       "    </tr>\n",
       "    <tr>\n",
       "      <th>242</th>\n",
       "      <td>2020-08-29</td>\n",
       "      <td>1460.0</td>\n",
       "      <td>9.0</td>\n",
       "      <td>64294.0</td>\n",
       "    </tr>\n",
       "    <tr>\n",
       "      <th>243</th>\n",
       "      <td>2020-08-30</td>\n",
       "      <td>1444.0</td>\n",
       "      <td>1.0</td>\n",
       "      <td>53541.0</td>\n",
       "    </tr>\n",
       "    <tr>\n",
       "      <th>244</th>\n",
       "      <td>2020-08-31</td>\n",
       "      <td>1365.0</td>\n",
       "      <td>4.0</td>\n",
       "      <td>42583.0</td>\n",
       "    </tr>\n",
       "    <tr>\n",
       "      <th>245</th>\n",
       "      <td>2020-09-01</td>\n",
       "      <td>996.0</td>\n",
       "      <td>6.0</td>\n",
       "      <td>54395.0</td>\n",
       "    </tr>\n",
       "    <tr>\n",
       "      <th>246</th>\n",
       "      <td>2020-09-02</td>\n",
       "      <td>975.0</td>\n",
       "      <td>8.0</td>\n",
       "      <td>NaN</td>\n",
       "    </tr>\n",
       "    <tr>\n",
       "      <th>247</th>\n",
       "      <td>2020-09-03</td>\n",
       "      <td>1326.0</td>\n",
       "      <td>6.0</td>\n",
       "      <td>NaN</td>\n",
       "    </tr>\n",
       "  </tbody>\n",
       "</table>\n",
       "</div>"
      ],
      "text/plain": [
       "           date  new_cases  new_deaths  new_tests\n",
       "238  2020-08-25      953.0         4.0    45798.0\n",
       "239  2020-08-26      876.0         4.0    58054.0\n",
       "240  2020-08-27     1366.0        13.0    57640.0\n",
       "241  2020-08-28     1409.0         5.0    65135.0\n",
       "242  2020-08-29     1460.0         9.0    64294.0\n",
       "243  2020-08-30     1444.0         1.0    53541.0\n",
       "244  2020-08-31     1365.0         4.0    42583.0\n",
       "245  2020-09-01      996.0         6.0    54395.0\n",
       "246  2020-09-02      975.0         8.0        NaN\n",
       "247  2020-09-03     1326.0         6.0        NaN"
      ]
     },
     "execution_count": 12,
     "metadata": {},
     "output_type": "execute_result"
    }
   ],
   "source": [
    "covid_df.tail(10)"
   ]
  },
  {
   "cell_type": "code",
   "execution_count": null,
   "id": "e555a22d",
   "metadata": {},
   "outputs": [],
   "source": []
  }
 ],
 "metadata": {
  "kernelspec": {
   "display_name": "Python 3",
   "language": "python",
   "name": "python3"
  },
  "language_info": {
   "codemirror_mode": {
    "name": "ipython",
    "version": 3
   },
   "file_extension": ".py",
   "mimetype": "text/x-python",
   "name": "python",
   "nbconvert_exporter": "python",
   "pygments_lexer": "ipython3",
   "version": "3.12.5"
  }
 },
 "nbformat": 4,
 "nbformat_minor": 5
}
